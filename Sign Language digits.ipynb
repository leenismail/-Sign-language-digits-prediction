{
 "cells": [
  {
   "cell_type": "code",
   "execution_count": 1,
   "id": "f57e0d77",
   "metadata": {},
   "outputs": [
    {
     "name": "stdout",
     "output_type": "stream",
     "text": [
      "Finished loading libs\n"
     ]
    }
   ],
   "source": [
    "import tensorflow as tf\n",
    "from tensorflow import keras\n",
    "import matplotlib\n",
    "import matplotlib.pyplot as plt\n",
    "import numpy as np\n",
    "import pandas as pd\n",
    "from PIL import Image\n",
    "from sklearn.metrics import accuracy_score\n",
    "print('Finished loading libs')"
   ]
  },
  {
   "cell_type": "code",
   "execution_count": 2,
   "id": "95d10cb0",
   "metadata": {},
   "outputs": [
    {
     "name": "stdout",
     "output_type": "stream",
     "text": [
      "(2062, 64, 64)\n",
      "(2062, 10)\n",
      "finsihed reading data\n"
     ]
    }
   ],
   "source": [
    "X = np.load('X.npy')\n",
    "Y = np.load('Y.npy')\n",
    "print(X.shape)\n",
    "print(Y.shape)\n",
    "print('finsihed reading data')"
   ]
  },
  {
   "cell_type": "code",
   "execution_count": 3,
   "id": "f0f5cc48",
   "metadata": {},
   "outputs": [
    {
     "name": "stdout",
     "output_type": "stream",
     "text": [
      "(2062, 10)\n",
      "[0. 1. 0. 0. 0. 0. 0. 0. 0. 0.]\n",
      "1\n",
      "(2062,)\n"
     ]
    }
   ],
   "source": [
    "print(Y.shape)\n",
    "print(Y[300])\n",
    "Y =np.argmax(Y,axis=1)\n",
    "print(Y[300])\n",
    "print(Y.shape)\n"
   ]
  },
  {
   "cell_type": "code",
   "execution_count": 4,
   "id": "ccf25396",
   "metadata": {},
   "outputs": [
    {
     "name": "stdout",
     "output_type": "stream",
     "text": [
      "(1649, 64, 64)\n",
      "(413, 64, 64)\n",
      "(1649,)\n",
      "(413,)\n"
     ]
    }
   ],
   "source": [
    "from sklearn.model_selection import train_test_split\n",
    "x_train, x_test, y_train, y_test = train_test_split(X,Y, test_size=0.2, random_state=0)\n",
    "print(x_train.shape)\n",
    "print(x_test.shape)\n",
    "print(y_train.shape)\n",
    "print(y_test.shape)\n"
   ]
  },
  {
   "cell_type": "code",
   "execution_count": 5,
   "id": "78649f0f",
   "metadata": {},
   "outputs": [
    {
     "name": "stdout",
     "output_type": "stream",
     "text": [
      "(1649, 4096)\n",
      "(413, 4096)\n"
     ]
    }
   ],
   "source": [
    "x_train = x_train.reshape(1649,4096)\n",
    "x_test = x_test.reshape(413,4096)\n",
    "print(x_train.shape)\n",
    "print(x_test.shape)"
   ]
  },
  {
   "cell_type": "code",
   "execution_count": null,
   "id": "a77c9451",
   "metadata": {},
   "outputs": [],
   "source": []
  },
  {
   "cell_type": "code",
   "execution_count": 6,
   "id": "acd9184f",
   "metadata": {},
   "outputs": [
    {
     "name": "stderr",
     "output_type": "stream",
     "text": [
      "C:\\Users\\user\\anaconda3\\lib\\site-packages\\sklearn\\linear_model\\_logistic.py:763: ConvergenceWarning: lbfgs failed to converge (status=1):\n",
      "STOP: TOTAL NO. of ITERATIONS REACHED LIMIT.\n",
      "\n",
      "Increase the number of iterations (max_iter) or scale the data as shown in:\n",
      "    https://scikit-learn.org/stable/modules/preprocessing.html\n",
      "Please also refer to the documentation for alternative solver options:\n",
      "    https://scikit-learn.org/stable/modules/linear_model.html#logistic-regression\n",
      "  n_iter_i = _check_optimize_result(\n"
     ]
    },
    {
     "data": {
      "text/plain": [
       "LogisticRegression()"
      ]
     },
     "execution_count": 6,
     "metadata": {},
     "output_type": "execute_result"
    }
   ],
   "source": [
    "from sklearn.linear_model import LogisticRegression\n",
    "log_reg = LogisticRegression()\n",
    "log_reg.fit(x_train, y_train)"
   ]
  },
  {
   "cell_type": "code",
   "execution_count": 7,
   "id": "727a004a",
   "metadata": {},
   "outputs": [
    {
     "name": "stderr",
     "output_type": "stream",
     "text": [
      "C:\\Users\\user\\anaconda3\\lib\\site-packages\\sklearn\\linear_model\\_logistic.py:763: ConvergenceWarning: lbfgs failed to converge (status=1):\n",
      "STOP: TOTAL NO. of ITERATIONS REACHED LIMIT.\n",
      "\n",
      "Increase the number of iterations (max_iter) or scale the data as shown in:\n",
      "    https://scikit-learn.org/stable/modules/preprocessing.html\n",
      "Please also refer to the documentation for alternative solver options:\n",
      "    https://scikit-learn.org/stable/modules/linear_model.html#logistic-regression\n",
      "  n_iter_i = _check_optimize_result(\n"
     ]
    },
    {
     "data": {
      "text/plain": [
       "LogisticRegression()"
      ]
     },
     "execution_count": 7,
     "metadata": {},
     "output_type": "execute_result"
    }
   ],
   "source": [
    "log_reg = LogisticRegression()\n",
    "log_reg.fit(x_train, y_train)"
   ]
  },
  {
   "cell_type": "code",
   "execution_count": 8,
   "id": "51b8db77",
   "metadata": {},
   "outputs": [
    {
     "data": {
      "text/plain": [
       "array([[2.32614520e-05, 1.98989249e-09, 4.45646972e-04, ...,\n",
       "        8.16705659e-03, 6.86287992e-03, 7.87456426e-02],\n",
       "       [7.66040429e-02, 1.92125657e-03, 2.21805222e-03, ...,\n",
       "        1.57288152e-01, 7.42730984e-01, 3.46123271e-04],\n",
       "       [1.22855045e-05, 2.64569812e-05, 2.15899959e-04, ...,\n",
       "        9.86187711e-01, 6.95124407e-03, 1.10110204e-03],\n",
       "       ...,\n",
       "       [9.85807019e-03, 1.38344118e-02, 5.54844720e-02, ...,\n",
       "        8.49245848e-01, 1.60634524e-02, 2.02669768e-04],\n",
       "       [9.99990010e-01, 1.85639557e-09, 3.69608571e-06, ...,\n",
       "        1.11317189e-06, 1.51475259e-08, 1.53920801e-11],\n",
       "       [7.14271576e-05, 9.35911726e-01, 9.90693987e-03, ...,\n",
       "        4.44388054e-02, 9.41268935e-03, 2.76743968e-07]])"
      ]
     },
     "execution_count": 8,
     "metadata": {},
     "output_type": "execute_result"
    }
   ],
   "source": [
    "y_proba = log_reg.predict_proba(x_test)\n",
    "y_proba"
   ]
  },
  {
   "cell_type": "code",
   "execution_count": 9,
   "id": "2e973b55",
   "metadata": {},
   "outputs": [
    {
     "name": "stdout",
     "output_type": "stream",
     "text": [
      "0.7820823244552058\n"
     ]
    }
   ],
   "source": [
    "\n",
    "y_pred = log_reg.predict(x_test)\n",
    "accVal = accuracy_score(y_test, y_pred)\n",
    "print(accVal)"
   ]
  },
  {
   "cell_type": "code",
   "execution_count": null,
   "id": "89426a5a",
   "metadata": {},
   "outputs": [],
   "source": []
  },
  {
   "cell_type": "markdown",
   "id": "1231803c",
   "metadata": {},
   "source": [
    "# TensorFlow"
   ]
  },
  {
   "cell_type": "code",
   "execution_count": 10,
   "id": "1b18e478",
   "metadata": {},
   "outputs": [
    {
     "name": "stdout",
     "output_type": "stream",
     "text": [
      "(2062, 64, 64)\n",
      "(2062, 10)\n",
      "finsihed reading data\n"
     ]
    }
   ],
   "source": [
    "X = np.load('X.npy')\n",
    "Y = np.load('Y.npy')\n",
    "print(X.shape)\n",
    "print(Y.shape)\n",
    "print('finsihed reading data')"
   ]
  },
  {
   "cell_type": "code",
   "execution_count": 11,
   "id": "41e6fbd2",
   "metadata": {},
   "outputs": [
    {
     "name": "stdout",
     "output_type": "stream",
     "text": [
      "(2062,)\n"
     ]
    }
   ],
   "source": [
    "Y =np.argmax(Y,axis=1)\n",
    "print(Y.shape)"
   ]
  },
  {
   "cell_type": "code",
   "execution_count": 12,
   "id": "e996ad45",
   "metadata": {},
   "outputs": [
    {
     "name": "stdout",
     "output_type": "stream",
     "text": [
      "(1649, 64, 64)\n",
      "(413, 64, 64)\n",
      "(1649,)\n",
      "(413,)\n"
     ]
    }
   ],
   "source": [
    "from sklearn.model_selection import train_test_split\n",
    "x_train, x_test, y_train, y_test = train_test_split(X,Y, test_size=0.2, random_state=0)\n",
    "print(x_train.shape)\n",
    "print(x_test.shape)\n",
    "print(y_train.shape)\n",
    "print(y_test.shape)\n"
   ]
  },
  {
   "cell_type": "code",
   "execution_count": 13,
   "id": "29a154b8",
   "metadata": {},
   "outputs": [
    {
     "name": "stdout",
     "output_type": "stream",
     "text": [
      "(1649, 64, 64)\n",
      "(413, 64, 64)\n"
     ]
    }
   ],
   "source": [
    "x_train1 = x_train.reshape(1649,4096)\n",
    "x_test1 = x_test.reshape(413,4096)\n",
    "print(x_train.shape)\n",
    "print(x_test.shape)"
   ]
  },
  {
   "cell_type": "code",
   "execution_count": 14,
   "id": "a104f3fe",
   "metadata": {
    "scrolled": true
   },
   "outputs": [
    {
     "data": {
      "text/plain": [
       "LogisticRegression(max_iter=4096, multi_class='multinomial')"
      ]
     },
     "execution_count": 14,
     "metadata": {},
     "output_type": "execute_result"
    }
   ],
   "source": [
    "from sklearn.linear_model import LogisticRegression\n",
    "softmax_reg = LogisticRegression(multi_class=\"multinomial\",solver=\"lbfgs\", max_iter=4096)\n",
    "softmax_reg.fit(x_train1, y_train)"
   ]
  },
  {
   "cell_type": "code",
   "execution_count": 15,
   "id": "68c9244d",
   "metadata": {
    "scrolled": true
   },
   "outputs": [
    {
     "name": "stdout",
     "output_type": "stream",
     "text": [
      "0.7723970944309927\n",
      "1.0\n"
     ]
    }
   ],
   "source": [
    "print( softmax_reg.score(x_test1, y_test) )\n",
    "print( softmax_reg.score(x_train1, y_train) )"
   ]
  },
  {
   "cell_type": "code",
   "execution_count": 16,
   "id": "47c9e5e0",
   "metadata": {},
   "outputs": [
    {
     "name": "stdout",
     "output_type": "stream",
     "text": [
      "0.7723970944309927\n"
     ]
    }
   ],
   "source": [
    "y_pred = softmax_reg.predict(x_test1)\n",
    "accVal = accuracy_score(y_test, y_pred)\n",
    "print(accVal)"
   ]
  },
  {
   "cell_type": "code",
   "execution_count": 17,
   "id": "cfc21244",
   "metadata": {},
   "outputs": [
    {
     "name": "stdout",
     "output_type": "stream",
     "text": [
      "Initialized model\n",
      "Finsihed setting the input layer\n",
      "Added hidden layer 1\n",
      "Added hidden layer 2\n",
      "Added output layer\n"
     ]
    }
   ],
   "source": [
    "model = keras.models.Sequential()\n",
    "print(\"Initialized model\")\n",
    "model.add(keras.layers.Flatten(input_shape=[64, 64]))\n",
    "print('Finsihed setting the input layer')\n",
    "model.add(keras.layers.Dense(64, activation=\"relu\"))\n",
    "print(\"Added hidden layer 1\")\n",
    "model.add(keras.layers.Dense(64, activation=\"relu\"))\n",
    "print('Added hidden layer 2')\n",
    "model.add(keras.layers.Dense(10, activation='softmax'))\n",
    "print(\"Added output layer\")"
   ]
  },
  {
   "cell_type": "code",
   "execution_count": 18,
   "id": "2789f905",
   "metadata": {},
   "outputs": [
    {
     "name": "stdout",
     "output_type": "stream",
     "text": [
      "Model: \"sequential\"\n",
      "_________________________________________________________________\n",
      " Layer (type)                Output Shape              Param #   \n",
      "=================================================================\n",
      " flatten (Flatten)           (None, 4096)              0         \n",
      "                                                                 \n",
      " dense (Dense)               (None, 64)                262208    \n",
      "                                                                 \n",
      " dense_1 (Dense)             (None, 64)                4160      \n",
      "                                                                 \n",
      " dense_2 (Dense)             (None, 10)                650       \n",
      "                                                                 \n",
      "=================================================================\n",
      "Total params: 267,018\n",
      "Trainable params: 267,018\n",
      "Non-trainable params: 0\n",
      "_________________________________________________________________\n"
     ]
    }
   ],
   "source": [
    "model.summary()"
   ]
  },
  {
   "cell_type": "code",
   "execution_count": 19,
   "id": "d467d954",
   "metadata": {
    "scrolled": true
   },
   "outputs": [
    {
     "name": "stdout",
     "output_type": "stream",
     "text": [
      "Finished compiling\n"
     ]
    }
   ],
   "source": [
    "model.compile(loss=\"categorical_crossentropy\",\n",
    "              optimizer=\"sgd\", \n",
    "              metrics = ['accuracy'])\n",
    "print(\"Finished compiling\")"
   ]
  },
  {
   "cell_type": "code",
   "execution_count": 20,
   "id": "10a4e7fa",
   "metadata": {},
   "outputs": [
    {
     "name": "stdout",
     "output_type": "stream",
     "text": [
      "(1649, 10)\n",
      "Finished categorizing the labels (output)\n"
     ]
    }
   ],
   "source": [
    "from tensorflow.keras.utils import to_categorical\n",
    "y_train_categorical = to_categorical(y_train)\n",
    "print(y_train_categorical.shape)\n",
    "print(\"Finished categorizing the labels (output)\")"
   ]
  },
  {
   "cell_type": "code",
   "execution_count": 21,
   "id": "74fabc09",
   "metadata": {},
   "outputs": [
    {
     "name": "stdout",
     "output_type": "stream",
     "text": [
      "Epoch 1/5\n",
      "52/52 [==============================] - 1s 4ms/step - loss: 2.2627 - accuracy: 0.1546\n",
      "Epoch 2/5\n",
      "52/52 [==============================] - 0s 5ms/step - loss: 2.1554 - accuracy: 0.2814\n",
      "Epoch 3/5\n",
      "52/52 [==============================] - 0s 6ms/step - loss: 2.0104 - accuracy: 0.3620\n",
      "Epoch 4/5\n",
      "52/52 [==============================] - 0s 5ms/step - loss: 1.8653 - accuracy: 0.4215\n",
      "Epoch 5/5\n",
      "52/52 [==============================] - 0s 4ms/step - loss: 1.6994 - accuracy: 0.4906\n"
     ]
    }
   ],
   "source": [
    "history = model.fit(\n",
    "  x_train,\n",
    "  y_train_categorical,\n",
    "  epochs=5,\n",
    "  batch_size=32,\n",
    "  verbose=True\n",
    ")"
   ]
  },
  {
   "cell_type": "code",
   "execution_count": 22,
   "id": "db096975",
   "metadata": {},
   "outputs": [
    {
     "data": {
      "image/png": "[encoded data removed]",
      "text/plain": [
       "<Figure size 432x288 with 1 Axes>"
      ]
     },
     "metadata": {
      "needs_background": "light"
     },
     "output_type": "display_data"
    }
   ],
   "source": [
    "pd.DataFrame(history.history).plot()\n",
    "plt.grid(True)\n",
    "plt.gca().set_ylim(0, 1) # set the vertical range to [0-1]\n",
    "plt.show()"
   ]
  },
  {
   "cell_type": "code",
   "execution_count": 23,
   "id": "5249d273",
   "metadata": {},
   "outputs": [
    {
     "name": "stdout",
     "output_type": "stream",
     "text": [
      "13/13 [==============================] - 0s 3ms/step - loss: 1.6267 - accuracy: 0.5157\n"
     ]
    },
    {
     "data": {
      "text/plain": [
       "[1.6266696453094482, 0.5157384872436523]"
      ]
     },
     "execution_count": 23,
     "metadata": {},
     "output_type": "execute_result"
    }
   ],
   "source": [
    "model.evaluate(\n",
    "  x_test,\n",
    "  to_categorical(y_test)\n",
    ")"
   ]
  },
  {
   "cell_type": "code",
   "execution_count": 24,
   "id": "fa1b0feb",
   "metadata": {},
   "outputs": [
    {
     "name": "stdout",
     "output_type": "stream",
     "text": [
      "(413,)\n"
     ]
    }
   ],
   "source": [
    "print(y_test.shape)"
   ]
  },
  {
   "cell_type": "code",
   "execution_count": 25,
   "id": "2ba4da28",
   "metadata": {},
   "outputs": [
    {
     "name": "stdout",
     "output_type": "stream",
     "text": [
      "[[0.01045065 0.1689739  0.07932071 0.4230898  0.02614888 0.12680481\n",
      "  0.04192149 0.01512054 0.02760345 0.08056588]\n",
      " [0.01980518 0.04613183 0.079003   0.11070027 0.08713692 0.09218696\n",
      "  0.1464869  0.10727827 0.15566534 0.1556054 ]\n",
      " [0.03564032 0.1849739  0.11517726 0.264671   0.05009289 0.08344873\n",
      "  0.06810725 0.04056863 0.0714408  0.08587909]\n",
      " [0.02730331 0.24259338 0.292318   0.14439753 0.04095463 0.01595383\n",
      "  0.08293919 0.06219902 0.05624957 0.03509167]\n",
      " [0.03219179 0.13130629 0.09822478 0.06546103 0.09474081 0.02012998\n",
      "  0.1095906  0.24781637 0.13973725 0.06080104]\n",
      " [0.04071762 0.16548258 0.1255416  0.06562731 0.07821777 0.02137278\n",
      "  0.09957669 0.18986276 0.17845006 0.03515089]]\n",
      "[3 8 3 2 7 7]\n",
      "Check the truth\n",
      "[3 8 5 2 7 8]\n"
     ]
    }
   ],
   "source": [
    "# Predict on the  5 test images.\n",
    "predictions = model.predict(x_test[40:46])\n",
    "print(predictions)\n",
    "\n",
    "# Print our model's predictions.\n",
    "print(np.argmax(predictions, axis=1)) # [3 8 5 8 8 8]\n",
    "\n",
    "# Check our predictions against the ground truths.\n",
    "print(\"Check the truth\")\n",
    "print(y_test[40:46]) # [3 8 5 2 7 8]"
   ]
  },
  {
   "cell_type": "code",
   "execution_count": 26,
   "id": "fd692d4c",
   "metadata": {},
   "outputs": [
    {
     "name": "stdout",
     "output_type": "stream",
     "text": [
      "              precision    recall  f1-score   support\n",
      "\n",
      "           0       0.80      0.75      0.78        44\n",
      "           1       0.86      0.86      0.86        44\n",
      "           2       0.74      0.73      0.74        44\n",
      "           3       0.78      0.91      0.84        35\n",
      "           4       0.58      0.67      0.62        42\n",
      "           5       0.93      0.88      0.90        42\n",
      "           6       0.65      0.76      0.70        37\n",
      "           7       0.81      0.55      0.66        47\n",
      "           8       0.73      0.90      0.80        39\n",
      "           9       0.91      0.77      0.83        39\n",
      "\n",
      "    accuracy                           0.77       413\n",
      "   macro avg       0.78      0.78      0.77       413\n",
      "weighted avg       0.78      0.77      0.77       413\n",
      "\n"
     ]
    }
   ],
   "source": [
    "from sklearn.metrics import classification_report\n",
    "print(classification_report(y_test, y_pred))"
   ]
  },
  {
   "cell_type": "code",
   "execution_count": null,
   "id": "aaf33dfb",
   "metadata": {},
   "outputs": [],
   "source": []
  },
  {
   "cell_type": "code",
   "execution_count": null,
   "id": "35f9863c",
   "metadata": {},
   "outputs": [],
   "source": []
  },
  {
   "cell_type": "code",
   "execution_count": null,
   "id": "381eeec9",
   "metadata": {},
   "outputs": [],
   "source": []
  }
 ],
 "metadata": {
  "kernelspec": {
   "display_name": "Python 3",
   "language": "python",
   "name": "python3"
  },
  "language_info": {
   "codemirror_mode": {
    "name": "ipython",
    "version": 3
   },
   "file_extension": ".py",
   "mimetype": "text/x-python",
   "name": "python",
   "nbconvert_exporter": "python",
   "pygments_lexer": "ipython3",
   "version": "3.8.8"
  }
 },
 "nbformat": 4,
 "nbformat_minor": 5
}
